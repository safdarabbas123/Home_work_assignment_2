{
 "cells": [
  {
   "cell_type": "markdown",
   "id": "637f81f6",
   "metadata": {},
   "source": [
    "# Scenario ensemble download"
   ]
  },
  {
   "cell_type": "markdown",
   "id": "eecc72e7",
   "metadata": {},
   "source": [
    "The scenario ensemble used for this assessment and the metadata table of scenario categorisation and quantitative indicators are available for download via the IAMC 1.5°C Scenario Explorer.\n",
    "\n",
    "The Working Group III (WGIII) is one of the three working groups of the Intergovernmental Panel on Climate Change (IPCC), which is a scientific body established by the United Nations to provide objective information about climate change. The WGIII's contribution to the IPCC's Sixth Assessment Report (AR6) focuses on the mitigation of climate change.\n",
    "\n",
    "Specifically, the WGIII assesses literature on the scientific, technological, environmental, economic, and social aspects of mitigating climate change. This includes evaluating the potential effectiveness of various mitigation strategies, analyzing the costs and benefits of different approaches, and assessing the social and ethical implications of mitigation policies.\n",
    "\n",
    "The WGIII also considers issues related to the implementation of mitigation strategies, including the role of government policies, international cooperation, and public engagement. The goal of the WGIII's assessment is to provide policymakers, businesses, and individuals with a comprehensive and objective understanding of the opportunities and challenges of mitigating climate change."
   ]
  }
 ],
 "metadata": {
  "kernelspec": {
   "display_name": "Python 3 (ipykernel)",
   "language": "python",
   "name": "python3"
  },
  "language_info": {
   "codemirror_mode": {
    "name": "ipython",
    "version": 3
   },
   "file_extension": ".py",
   "mimetype": "text/x-python",
   "name": "python",
   "nbconvert_exporter": "python",
   "pygments_lexer": "ipython3",
   "version": "3.10.9"
  }
 },
 "nbformat": 4,
 "nbformat_minor": 5
}
